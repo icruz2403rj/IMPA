{
 "cells": [
  {
   "cell_type": "code",
   "execution_count": 150,
   "metadata": {},
   "outputs": [],
   "source": [
    "import numpy as np\n",
    "import scipy.stats as stats\n",
    "\n",
    "import statsmodels.api as sm"
   ]
  },
  {
   "cell_type": "code",
   "execution_count": 151,
   "metadata": {},
   "outputs": [],
   "source": [
    "np.random.seed(0)"
   ]
  },
  {
   "cell_type": "code",
   "execution_count": 152,
   "metadata": {},
   "outputs": [],
   "source": [
    "n = 50"
   ]
  },
  {
   "cell_type": "code",
   "execution_count": 153,
   "metadata": {},
   "outputs": [],
   "source": [
    "SIGMA = np.diag([10**((i - 20)/5) for i in range(1, n + 1)])\n",
    "\n",
    "X = np.array([np.ones(n), np.random.normal(0, 1, n)]).T\n",
    "\n",
    "BETA = np.array ([1 , 0.25])\n",
    "\n",
    "EPSILON = np.random.multivariate_normal(np.zeros(n), SIGMA)\n",
    "\n",
    "Y = X @ BETA + EPSILON"
   ]
  },
  {
   "cell_type": "code",
   "execution_count": 154,
   "metadata": {},
   "outputs": [],
   "source": [
    "Raiz = np.diag(SIGMA)\n",
    "\n",
    "Raiz = np.sqrt(Raiz)**(-1)\n",
    "\n",
    "Raiz = np.diag(Raiz)\n",
    "\n",
    "Y_Til = Raiz @ Y\n",
    "\n",
    "X_Til = Raiz @ X"
   ]
  },
  {
   "cell_type": "code",
   "execution_count": 155,
   "metadata": {},
   "outputs": [],
   "source": [
    "Gaussiana = sm.OLS(Y, X).fit()\n",
    "\n",
    "Ponderado = sm.OLS(Y_Til, X_Til).fit()"
   ]
  },
  {
   "cell_type": "code",
   "execution_count": 156,
   "metadata": {},
   "outputs": [
    {
     "name": "stdout",
     "output_type": "stream",
     "text": [
      "Erro (Gaussiano): 36.0904 \n",
      "\n",
      "Erro (Ponderado): 0.0197\n"
     ]
    }
   ],
   "source": [
    "Erro = np.linalg.norm(BETA - Gaussiana.params)\n",
    "\n",
    "print(f'Erro (Gaussiano): {np.round(Erro, 4)} \\n')\n",
    "\n",
    "Erro = np.linalg.norm(BETA - Ponderado.params)\n",
    "\n",
    "print(f'Erro (Ponderado): {np.round(Erro, 4)}')"
   ]
  },
  {
   "cell_type": "code",
   "execution_count": 157,
   "metadata": {},
   "outputs": [
    {
     "name": "stdout",
     "output_type": "stream",
     "text": [
      "P-Valor (Teste T): 0.1544\n"
     ]
    }
   ],
   "source": [
    "Pvalor = Gaussiana.pvalues[0]\n",
    "\n",
    "print(f'P-Valor (Teste T): {np.round(Pvalor, 4)}')"
   ]
  },
  {
   "cell_type": "code",
   "execution_count": 158,
   "metadata": {},
   "outputs": [
    {
     "name": "stdout",
     "output_type": "stream",
     "text": [
      "Estatística Z (Ponderada): 86.57\n"
     ]
    }
   ],
   "source": [
    "Z = Ponderado.params[0]\n",
    "\n",
    "Z /= np.sqrt(Ponderado.cov_params()[0, 0])\n",
    "\n",
    "print(f'Estatística Z (Ponderada): {np.round(Z, 4)}')"
   ]
  },
  {
   "cell_type": "code",
   "execution_count": 159,
   "metadata": {},
   "outputs": [
    {
     "name": "stdout",
     "output_type": "stream",
     "text": [
      "P-Valor (Teste Z): 0.0\n"
     ]
    }
   ],
   "source": [
    "Pvalor = 2*(1 - stats.norm.cdf(np.abs(Z)))\n",
    "\n",
    "print(f'P-Valor (Teste Z): {np.round(Pvalor, 4)}')"
   ]
  }
 ],
 "metadata": {
  "kernelspec": {
   "display_name": "IMPA",
   "language": "python",
   "name": "python3"
  },
  "language_info": {
   "codemirror_mode": {
    "name": "ipython",
    "version": 3
   },
   "file_extension": ".py",
   "mimetype": "text/x-python",
   "name": "python",
   "nbconvert_exporter": "python",
   "pygments_lexer": "ipython3",
   "version": "3.12.8"
  }
 },
 "nbformat": 4,
 "nbformat_minor": 2
}
