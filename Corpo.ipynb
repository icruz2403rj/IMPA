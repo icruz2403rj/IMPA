{
 "cells": [
  {
   "cell_type": "code",
   "execution_count": 11,
   "metadata": {},
   "outputs": [],
   "source": [
    "import numpy as np\n",
    "import pandas as pd\n",
    "\n",
    "import matplotlib.pyplot as plt\n",
    "import seaborn as sns\n",
    "\n",
    "from sklearn.model_selection import train_test_split\n",
    "from sklearn.model_selection import KFold\n",
    "\n",
    "from sklearn.preprocessing import StandardScaler\n",
    "from sklearn.pipeline import Pipeline\n",
    "from sklearn.model_selection import GridSearchCV\n",
    "\n",
    "from sklearn. linear_model import Lasso\n",
    "\n",
    "from sklearn.metrics import mean_squared_error as MSE"
   ]
  },
  {
   "cell_type": "code",
   "execution_count": 12,
   "metadata": {},
   "outputs": [],
   "source": [
    "sns.set_theme(style = 'darkgrid')"
   ]
  },
  {
   "cell_type": "code",
   "execution_count": 13,
   "metadata": {},
   "outputs": [],
   "source": [
    "Dados = pd.read_csv('Dados\\\\Corpo.csv')\n",
    "\n",
    "X = Dados.drop(['BodyFat', 'Density'], axis = 'columns')\n",
    "\n",
    "Y = Dados[['BodyFat']]"
   ]
  },
  {
   "cell_type": "code",
   "execution_count": 14,
   "metadata": {},
   "outputs": [],
   "source": [
    "X_Treino, X_Teste, Y_Treino , Y_Teste = train_test_split(\n",
    "    \n",
    "    X, Y,\n",
    "\n",
    "    test_size = 0.2,\n",
    "\n",
    "    random_state = 0\n",
    "\n",
    ")"
   ]
  },
  {
   "cell_type": "code",
   "execution_count": 15,
   "metadata": {},
   "outputs": [],
   "source": [
    "KF = KFold(n_splits = 5, shuffle = True , random_state = 0)"
   ]
  },
  {
   "cell_type": "code",
   "execution_count": 16,
   "metadata": {},
   "outputs": [],
   "source": [
    "LASSO = Pipeline(\n",
    "\n",
    "    [\n",
    "\n",
    "        ('Escalonamento', StandardScaler(with_mean =  False)), \n",
    "        \n",
    "        ('LASSO', Lasso())\n",
    "\n",
    "    ]\n",
    "\n",
    ")\n",
    "\n",
    "Parametros = {'LASSO__alpha': 10**np.linspace(5, -2, 100)}\n",
    "\n",
    "ALPHA = GridSearchCV(LASSO, Parametros, cv = KF, scoring = 'neg_mean_squared_error')\n",
    "\n",
    "ALPHA.fit(X_Treino, Y_Treino);"
   ]
  },
  {
   "cell_type": "code",
   "execution_count": 17,
   "metadata": {},
   "outputs": [
    {
     "data": {
      "image/png": "[encoded data removed]",
      "text/plain": [
       "<Figure size 1000x500 with 1 Axes>"
      ]
     },
     "metadata": {},
     "output_type": "display_data"
    }
   ],
   "source": [
    "Grade = pd.DataFrame(ALPHA.cv_results_)\n",
    "\n",
    "Grade = Grade[['param_LASSO__alpha', 'mean_test_score']]\n",
    "\n",
    "Grade = Grade.rename(\n",
    "\n",
    "    columns = {\n",
    "\n",
    "        'param_LASSO__alpha': 'Alpha', \n",
    "        \n",
    "        'mean_test_score': 'MSE'\n",
    "\n",
    "    }\n",
    "\n",
    ")\n",
    "\n",
    "Grade['MSE'] = -Grade['MSE']\n",
    "\n",
    "plt.figure(figsize = (10, 5))\n",
    "\n",
    "Grafico = sns.lineplot(\n",
    "\n",
    "    data = Grade, \n",
    "    \n",
    "    x = 'Alpha', y = 'MSE'\n",
    "    \n",
    ")\n",
    "\n",
    "Grafico.spines['right'].set_visible(False)\n",
    "\n",
    "Grafico.spines['top'].set_visible(False)\n",
    "\n",
    "plt.xscale('log')\n",
    "\n",
    "plt.show()"
   ]
  },
  {
   "cell_type": "code",
   "execution_count": 18,
   "metadata": {},
   "outputs": [
    {
     "name": "stdout",
     "output_type": "stream",
     "text": [
      "Melhor alpha: 0.115\n"
     ]
    }
   ],
   "source": [
    "ALPHA_ast = ALPHA.best_params_['LASSO__alpha']\n",
    "\n",
    "print(f'Melhor alpha: {np.round(ALPHA_ast, 4)}')"
   ]
  },
  {
   "cell_type": "code",
   "execution_count": 19,
   "metadata": {},
   "outputs": [],
   "source": [
    "LASSO_ast = Lasso(alpha = ALPHA_ast)\n",
    "\n",
    "LASSO_ast.fit(X_Treino, Y_Treino);"
   ]
  },
  {
   "cell_type": "code",
   "execution_count": 20,
   "metadata": {},
   "outputs": [],
   "source": [
    "Teste = [MSE(Y_Teste, LASSO_ast.predict(X_Teste))]\n",
    "\n",
    "Estimador = ['Lasso']"
   ]
  }
 ],
 "metadata": {
  "kernelspec": {
   "display_name": "IMPA",
   "language": "python",
   "name": "python3"
  },
  "language_info": {
   "codemirror_mode": {
    "name": "ipython",
    "version": 3
   },
   "file_extension": ".py",
   "mimetype": "text/x-python",
   "name": "python",
   "nbconvert_exporter": "python",
   "pygments_lexer": "ipython3",
   "version": "3.12.8"
  }
 },
 "nbformat": 4,
 "nbformat_minor": 2
}
